{
 "cells": [
  {
   "cell_type": "code",
   "execution_count": 499,
   "metadata": {},
   "outputs": [
    {
     "name": "stdout",
     "output_type": "stream",
     "text": [
      "6485\n"
     ]
    },
    {
     "data": {
      "text/plain": [
       "6466"
      ]
     },
     "execution_count": 499,
     "metadata": {},
     "output_type": "execute_result"
    }
   ],
   "source": [
    "import pandas as pd\n",
    "names = (pd.read_csv('Indian_Names.csv')['Name']).dropna(axis=0).to_list()\n",
    "import re\n",
    "# Regular expression pattern to match any string that contains special characters, digits, or spaces\n",
    "pattern = re.compile(r'[^a-zA-Z]')\n",
    "print(names.__len__())\n",
    "# Filter out strings containing special characters, digits, or spaces\n",
    "names = [name for name in names if not pattern.search(name)]\n",
    "names.__len__()"
   ]
  },
  {
   "cell_type": "code",
   "execution_count": 500,
   "metadata": {},
   "outputs": [
    {
     "name": "stdout",
     "output_type": "stream",
     "text": [
      "{'..': 0, '.a': 1, '.b': 2, '.c': 3, '.d': 4, '.e': 5, '.f': 6, '.g': 7, '.h': 8, '.i': 9, '.j': 10, '.k': 11, '.l': 12, '.m': 13, '.n': 14, '.o': 15, '.p': 16, '.q': 17, '.r': 18, '.s': 19, '.t': 20, '.u': 21, '.v': 22, '.w': 23, '.x': 24, '.y': 25, '.z': 26, 'a.': 27, 'aa': 28, 'ab': 29, 'ac': 30, 'ad': 31, 'ae': 32, 'af': 33, 'ag': 34, 'ah': 35, 'ai': 36, 'aj': 37, 'ak': 38, 'al': 39, 'am': 40, 'an': 41, 'ao': 42, 'ap': 43, 'aq': 44, 'ar': 45, 'as': 46, 'at': 47, 'au': 48, 'av': 49, 'aw': 50, 'ax': 51, 'ay': 52, 'az': 53, 'b.': 54, 'ba': 55, 'bb': 56, 'bc': 57, 'bd': 58, 'be': 59, 'bf': 60, 'bg': 61, 'bh': 62, 'bi': 63, 'bj': 64, 'bk': 65, 'bl': 66, 'bm': 67, 'bn': 68, 'bo': 69, 'bp': 70, 'bq': 71, 'br': 72, 'bs': 73, 'bt': 74, 'bu': 75, 'bv': 76, 'bw': 77, 'bx': 78, 'by': 79, 'bz': 80, 'c.': 81, 'ca': 82, 'cb': 83, 'cc': 84, 'cd': 85, 'ce': 86, 'cf': 87, 'cg': 88, 'ch': 89, 'ci': 90, 'cj': 91, 'ck': 92, 'cl': 93, 'cm': 94, 'cn': 95, 'co': 96, 'cp': 97, 'cq': 98, 'cr': 99, 'cs': 100, 'ct': 101, 'cu': 102, 'cv': 103, 'cw': 104, 'cx': 105, 'cy': 106, 'cz': 107, 'd.': 108, 'da': 109, 'db': 110, 'dc': 111, 'dd': 112, 'de': 113, 'df': 114, 'dg': 115, 'dh': 116, 'di': 117, 'dj': 118, 'dk': 119, 'dl': 120, 'dm': 121, 'dn': 122, 'do': 123, 'dp': 124, 'dq': 125, 'dr': 126, 'ds': 127, 'dt': 128, 'du': 129, 'dv': 130, 'dw': 131, 'dx': 132, 'dy': 133, 'dz': 134, 'e.': 135, 'ea': 136, 'eb': 137, 'ec': 138, 'ed': 139, 'ee': 140, 'ef': 141, 'eg': 142, 'eh': 143, 'ei': 144, 'ej': 145, 'ek': 146, 'el': 147, 'em': 148, 'en': 149, 'eo': 150, 'ep': 151, 'eq': 152, 'er': 153, 'es': 154, 'et': 155, 'eu': 156, 'ev': 157, 'ew': 158, 'ex': 159, 'ey': 160, 'ez': 161, 'f.': 162, 'fa': 163, 'fb': 164, 'fc': 165, 'fd': 166, 'fe': 167, 'ff': 168, 'fg': 169, 'fh': 170, 'fi': 171, 'fj': 172, 'fk': 173, 'fl': 174, 'fm': 175, 'fn': 176, 'fo': 177, 'fp': 178, 'fq': 179, 'fr': 180, 'fs': 181, 'ft': 182, 'fu': 183, 'fv': 184, 'fw': 185, 'fx': 186, 'fy': 187, 'fz': 188, 'g.': 189, 'ga': 190, 'gb': 191, 'gc': 192, 'gd': 193, 'ge': 194, 'gf': 195, 'gg': 196, 'gh': 197, 'gi': 198, 'gj': 199, 'gk': 200, 'gl': 201, 'gm': 202, 'gn': 203, 'go': 204, 'gp': 205, 'gq': 206, 'gr': 207, 'gs': 208, 'gt': 209, 'gu': 210, 'gv': 211, 'gw': 212, 'gx': 213, 'gy': 214, 'gz': 215, 'h.': 216, 'ha': 217, 'hb': 218, 'hc': 219, 'hd': 220, 'he': 221, 'hf': 222, 'hg': 223, 'hh': 224, 'hi': 225, 'hj': 226, 'hk': 227, 'hl': 228, 'hm': 229, 'hn': 230, 'ho': 231, 'hp': 232, 'hq': 233, 'hr': 234, 'hs': 235, 'ht': 236, 'hu': 237, 'hv': 238, 'hw': 239, 'hx': 240, 'hy': 241, 'hz': 242, 'i.': 243, 'ia': 244, 'ib': 245, 'ic': 246, 'id': 247, 'ie': 248, 'if': 249, 'ig': 250, 'ih': 251, 'ii': 252, 'ij': 253, 'ik': 254, 'il': 255, 'im': 256, 'in': 257, 'io': 258, 'ip': 259, 'iq': 260, 'ir': 261, 'is': 262, 'it': 263, 'iu': 264, 'iv': 265, 'iw': 266, 'ix': 267, 'iy': 268, 'iz': 269, 'j.': 270, 'ja': 271, 'jb': 272, 'jc': 273, 'jd': 274, 'je': 275, 'jf': 276, 'jg': 277, 'jh': 278, 'ji': 279, 'jj': 280, 'jk': 281, 'jl': 282, 'jm': 283, 'jn': 284, 'jo': 285, 'jp': 286, 'jq': 287, 'jr': 288, 'js': 289, 'jt': 290, 'ju': 291, 'jv': 292, 'jw': 293, 'jx': 294, 'jy': 295, 'jz': 296, 'k.': 297, 'ka': 298, 'kb': 299, 'kc': 300, 'kd': 301, 'ke': 302, 'kf': 303, 'kg': 304, 'kh': 305, 'ki': 306, 'kj': 307, 'kk': 308, 'kl': 309, 'km': 310, 'kn': 311, 'ko': 312, 'kp': 313, 'kq': 314, 'kr': 315, 'ks': 316, 'kt': 317, 'ku': 318, 'kv': 319, 'kw': 320, 'kx': 321, 'ky': 322, 'kz': 323, 'l.': 324, 'la': 325, 'lb': 326, 'lc': 327, 'ld': 328, 'le': 329, 'lf': 330, 'lg': 331, 'lh': 332, 'li': 333, 'lj': 334, 'lk': 335, 'll': 336, 'lm': 337, 'ln': 338, 'lo': 339, 'lp': 340, 'lq': 341, 'lr': 342, 'ls': 343, 'lt': 344, 'lu': 345, 'lv': 346, 'lw': 347, 'lx': 348, 'ly': 349, 'lz': 350, 'm.': 351, 'ma': 352, 'mb': 353, 'mc': 354, 'md': 355, 'me': 356, 'mf': 357, 'mg': 358, 'mh': 359, 'mi': 360, 'mj': 361, 'mk': 362, 'ml': 363, 'mm': 364, 'mn': 365, 'mo': 366, 'mp': 367, 'mq': 368, 'mr': 369, 'ms': 370, 'mt': 371, 'mu': 372, 'mv': 373, 'mw': 374, 'mx': 375, 'my': 376, 'mz': 377, 'n.': 378, 'na': 379, 'nb': 380, 'nc': 381, 'nd': 382, 'ne': 383, 'nf': 384, 'ng': 385, 'nh': 386, 'ni': 387, 'nj': 388, 'nk': 389, 'nl': 390, 'nm': 391, 'nn': 392, 'no': 393, 'np': 394, 'nq': 395, 'nr': 396, 'ns': 397, 'nt': 398, 'nu': 399, 'nv': 400, 'nw': 401, 'nx': 402, 'ny': 403, 'nz': 404, 'o.': 405, 'oa': 406, 'ob': 407, 'oc': 408, 'od': 409, 'oe': 410, 'of': 411, 'og': 412, 'oh': 413, 'oi': 414, 'oj': 415, 'ok': 416, 'ol': 417, 'om': 418, 'on': 419, 'oo': 420, 'op': 421, 'oq': 422, 'or': 423, 'os': 424, 'ot': 425, 'ou': 426, 'ov': 427, 'ow': 428, 'ox': 429, 'oy': 430, 'oz': 431, 'p.': 432, 'pa': 433, 'pb': 434, 'pc': 435, 'pd': 436, 'pe': 437, 'pf': 438, 'pg': 439, 'ph': 440, 'pi': 441, 'pj': 442, 'pk': 443, 'pl': 444, 'pm': 445, 'pn': 446, 'po': 447, 'pp': 448, 'pq': 449, 'pr': 450, 'ps': 451, 'pt': 452, 'pu': 453, 'pv': 454, 'pw': 455, 'px': 456, 'py': 457, 'pz': 458, 'q.': 459, 'qa': 460, 'qb': 461, 'qc': 462, 'qd': 463, 'qe': 464, 'qf': 465, 'qg': 466, 'qh': 467, 'qi': 468, 'qj': 469, 'qk': 470, 'ql': 471, 'qm': 472, 'qn': 473, 'qo': 474, 'qp': 475, 'qq': 476, 'qr': 477, 'qs': 478, 'qt': 479, 'qu': 480, 'qv': 481, 'qw': 482, 'qx': 483, 'qy': 484, 'qz': 485, 'r.': 486, 'ra': 487, 'rb': 488, 'rc': 489, 'rd': 490, 're': 491, 'rf': 492, 'rg': 493, 'rh': 494, 'ri': 495, 'rj': 496, 'rk': 497, 'rl': 498, 'rm': 499, 'rn': 500, 'ro': 501, 'rp': 502, 'rq': 503, 'rr': 504, 'rs': 505, 'rt': 506, 'ru': 507, 'rv': 508, 'rw': 509, 'rx': 510, 'ry': 511, 'rz': 512, 's.': 513, 'sa': 514, 'sb': 515, 'sc': 516, 'sd': 517, 'se': 518, 'sf': 519, 'sg': 520, 'sh': 521, 'si': 522, 'sj': 523, 'sk': 524, 'sl': 525, 'sm': 526, 'sn': 527, 'so': 528, 'sp': 529, 'sq': 530, 'sr': 531, 'ss': 532, 'st': 533, 'su': 534, 'sv': 535, 'sw': 536, 'sx': 537, 'sy': 538, 'sz': 539, 't.': 540, 'ta': 541, 'tb': 542, 'tc': 543, 'td': 544, 'te': 545, 'tf': 546, 'tg': 547, 'th': 548, 'ti': 549, 'tj': 550, 'tk': 551, 'tl': 552, 'tm': 553, 'tn': 554, 'to': 555, 'tp': 556, 'tq': 557, 'tr': 558, 'ts': 559, 'tt': 560, 'tu': 561, 'tv': 562, 'tw': 563, 'tx': 564, 'ty': 565, 'tz': 566, 'u.': 567, 'ua': 568, 'ub': 569, 'uc': 570, 'ud': 571, 'ue': 572, 'uf': 573, 'ug': 574, 'uh': 575, 'ui': 576, 'uj': 577, 'uk': 578, 'ul': 579, 'um': 580, 'un': 581, 'uo': 582, 'up': 583, 'uq': 584, 'ur': 585, 'us': 586, 'ut': 587, 'uu': 588, 'uv': 589, 'uw': 590, 'ux': 591, 'uy': 592, 'uz': 593, 'v.': 594, 'va': 595, 'vb': 596, 'vc': 597, 'vd': 598, 've': 599, 'vf': 600, 'vg': 601, 'vh': 602, 'vi': 603, 'vj': 604, 'vk': 605, 'vl': 606, 'vm': 607, 'vn': 608, 'vo': 609, 'vp': 610, 'vq': 611, 'vr': 612, 'vs': 613, 'vt': 614, 'vu': 615, 'vv': 616, 'vw': 617, 'vx': 618, 'vy': 619, 'vz': 620, 'w.': 621, 'wa': 622, 'wb': 623, 'wc': 624, 'wd': 625, 'we': 626, 'wf': 627, 'wg': 628, 'wh': 629, 'wi': 630, 'wj': 631, 'wk': 632, 'wl': 633, 'wm': 634, 'wn': 635, 'wo': 636, 'wp': 637, 'wq': 638, 'wr': 639, 'ws': 640, 'wt': 641, 'wu': 642, 'wv': 643, 'ww': 644, 'wx': 645, 'wy': 646, 'wz': 647, 'x.': 648, 'xa': 649, 'xb': 650, 'xc': 651, 'xd': 652, 'xe': 653, 'xf': 654, 'xg': 655, 'xh': 656, 'xi': 657, 'xj': 658, 'xk': 659, 'xl': 660, 'xm': 661, 'xn': 662, 'xo': 663, 'xp': 664, 'xq': 665, 'xr': 666, 'xs': 667, 'xt': 668, 'xu': 669, 'xv': 670, 'xw': 671, 'xx': 672, 'xy': 673, 'xz': 674, 'y.': 675, 'ya': 676, 'yb': 677, 'yc': 678, 'yd': 679, 'ye': 680, 'yf': 681, 'yg': 682, 'yh': 683, 'yi': 684, 'yj': 685, 'yk': 686, 'yl': 687, 'ym': 688, 'yn': 689, 'yo': 690, 'yp': 691, 'yq': 692, 'yr': 693, 'ys': 694, 'yt': 695, 'yu': 696, 'yv': 697, 'yw': 698, 'yx': 699, 'yy': 700, 'yz': 701, 'z.': 702, 'za': 703, 'zb': 704, 'zc': 705, 'zd': 706, 'ze': 707, 'zf': 708, 'zg': 709, 'zh': 710, 'zi': 711, 'zj': 712, 'zk': 713, 'zl': 714, 'zm': 715, 'zn': 716, 'zo': 717, 'zp': 718, 'zq': 719, 'zr': 720, 'zs': 721, 'zt': 722, 'zu': 723, 'zv': 724, 'zw': 725, 'zx': 726, 'zy': 727, 'zz': 728}\n"
     ]
    }
   ],
   "source": [
    "s= '..'.join(names)\n",
    "pairs = sorted(set(list(ch1+ch2 for ch1,ch2 in zip(s,s[1:]))))\n",
    "\n",
    "chars = sorted(list(set(''.join(s))))\n",
    "stoi = {s:i for i,s in enumerate(chars)}\n",
    "itos = {i:s for s,i in stoi.items()}\n",
    "\n",
    "stoipair={}\n",
    "for ch1 in stoi:\n",
    "    for ch2 in stoi:\n",
    "        stoipair[ch1+ch2] = stoi[ch1]*27 +stoi[ch2]\n",
    "itospair={i:s for i,s in enumerate(stoipair)}"
   ]
  },
  {
   "cell_type": "code",
   "execution_count": 501,
   "metadata": {},
   "outputs": [],
   "source": [
    "import torch \n",
    "N = torch.zeros(729,27, dtype= torch.int32)\n"
   ]
  },
  {
   "cell_type": "code",
   "execution_count": 503,
   "metadata": {},
   "outputs": [],
   "source": [
    "N = torch.zeros(729,27, dtype= torch.int32)\n",
    "for name in names:\n",
    "    ch = list('..'+name+'.')\n",
    "    for ch1,ch2,ch3 in zip(ch,ch[1:],ch[2:]):\n",
    "            pair = ch1+ch2\n",
    "            ixpair = stoipair[pair]\n",
    "            ix = stoi[ch3]\n",
    "            N[ixpair][ix] += 1"
   ]
  },
  {
   "cell_type": "code",
   "execution_count": 504,
   "metadata": {},
   "outputs": [],
   "source": [
    "a = N.sum(1,keepdims=True)\n",
    "prob =N.float()/ N.sum(1,keepdims=True)"
   ]
  },
  {
   "cell_type": "code",
   "execution_count": 505,
   "metadata": {},
   "outputs": [
    {
     "name": "stdout",
     "output_type": "stream",
     "text": [
      "..hai.\n",
      "..munimalindhara.\n",
      "..ba.\n",
      "..jagat.\n",
      "..chibhivya.\n",
      "..hena.\n",
      "..anshwan.\n",
      "..derparmesh.\n",
      "..sugawatiwanj.\n",
      "..kum.\n",
      "..sabhetabramalmijeeman.\n",
      "..yaz.\n",
      "..jen.\n",
      "..mehmmeetili.\n",
      "..jeer.\n",
      "..sandrahranji.\n",
      "..krukireer.\n",
      "..kratn.\n",
      "..sim.\n",
      "..murbiyashilam.\n",
      "..dil.\n",
      "..hali.\n",
      "..bharmam.\n",
      "..kumohati.\n",
      "..ka.\n",
      "..helat.\n",
      "..ma.\n",
      "..nishahir.\n",
      "..sankumanank.\n",
      "..sinir.\n"
     ]
    }
   ],
   "source": [
    "g = torch.Generator().manual_seed(2147483650)\n",
    "for i in range(30):\n",
    "  \n",
    "  out = ['..']\n",
    "  ix=0\n",
    "  while True:\n",
    "    ixpair = stoipair[''.join(out)[-2:]]\n",
    "    p = prob[ixpair]\n",
    "    ix = torch.multinomial(p, num_samples=1, replacement=True, generator=g).item()\n",
    "    out.append(itos[ix])\n",
    "    if ix == 0:\n",
    "      break\n",
    "  print(''.join(out))"
   ]
  },
  {
   "cell_type": "code",
   "execution_count": 506,
   "metadata": {},
   "outputs": [],
   "source": [
    "# create the training set of bigrams (x,y)\n",
    "xs_train, ys_train = [], []\n",
    "\n",
    "for w in names:\n",
    "  chs = list('..'+w+'.')\n",
    "  for ch1, ch2,ch3 in zip(chs, chs[1:],chs[2:]):\n",
    "    pair=ch1+ch2\n",
    "    ixpair=stoipair[pair]\n",
    "    ix=stoi[ch3]\n",
    "    xs_train.append(ixpair)\n",
    "    ys_train.append(ix)\n",
    "    \n",
    "xs_train = torch.tensor(xs_train)\n",
    "ys_train = torch.tensor(ys_train)"
   ]
  },
  {
   "cell_type": "code",
   "execution_count": 509,
   "metadata": {},
   "outputs": [
    {
     "data": {
      "text/plain": [
       "(47561, 47561)"
      ]
     },
     "execution_count": 509,
     "metadata": {},
     "output_type": "execute_result"
    }
   ],
   "source": [
    "xs_train.__len__(),ys_train.__len__()"
   ]
  },
  {
   "cell_type": "code",
   "execution_count": 510,
   "metadata": {},
   "outputs": [],
   "source": [
    "import torch.nn.functional as f\n",
    "xenc_train = f.one_hot(xs_train,num_classes=729).float()"
   ]
  },
  {
   "cell_type": "code",
   "execution_count": 511,
   "metadata": {},
   "outputs": [],
   "source": [
    "g = torch.Generator().manual_seed(2147483647)\n",
    "w=torch.randn(729,27,generator=g,requires_grad=True)"
   ]
  },
  {
   "cell_type": "code",
   "execution_count": 512,
   "metadata": {},
   "outputs": [
    {
     "data": {
      "text/plain": [
       "2.062042474746704"
      ]
     },
     "execution_count": 512,
     "metadata": {},
     "output_type": "execute_result"
    }
   ],
   "source": [
    "logitsN = xenc_train @ N.float()\n",
    "countsN = logitsN\n",
    "probN = countsN / countsN.sum(1,keepdims=True)\n",
    "lossN= -probN[torch.arange(xs_train.__len__()), ys_train].log().mean()\n",
    "lossN.item()\n"
   ]
  },
  {
   "cell_type": "code",
   "execution_count": 513,
   "metadata": {},
   "outputs": [
    {
     "data": {
      "text/plain": [
       "tensor(3.8565, grad_fn=<NegBackward0>)"
      ]
     },
     "execution_count": 513,
     "metadata": {},
     "output_type": "execute_result"
    }
   ],
   "source": [
    "logits_train = xenc_train @ w\n",
    "counts_train = logits_train.exp()\n",
    "prob_train = counts_train / counts_train.sum(1,keepdims=True)\n",
    "loss= -prob_train[torch.arange(xs_train.__len__()), ys_train].log().mean()\n",
    "loss\n"
   ]
  },
  {
   "cell_type": "code",
   "execution_count": 514,
   "metadata": {},
   "outputs": [],
   "source": [
    "w.grad = None\n",
    "loss.backward()\n",
    "w.data+= -80* w.grad"
   ]
  },
  {
   "cell_type": "code",
   "execution_count": 519,
   "metadata": {},
   "outputs": [
    {
     "name": "stdout",
     "output_type": "stream",
     "text": [
      "2.1291675567626953\n",
      "2.1268534660339355\n",
      "2.1250529289245605\n",
      "2.123697280883789\n",
      "2.1227076053619385\n",
      "2.122006416320801\n",
      "2.1215217113494873\n",
      "2.121194362640381\n",
      "2.120976686477661\n",
      "2.1208338737487793\n",
      "2.1207408905029297\n",
      "2.120680093765259\n",
      "2.120640277862549\n",
      "2.1206135749816895\n",
      "2.1205949783325195\n",
      "2.12058162689209\n",
      "2.1205716133117676\n",
      "2.1205637454986572\n",
      "2.1205568313598633\n",
      "2.1205503940582275\n",
      "2.120544672012329\n",
      "2.1205391883850098\n",
      "2.1205341815948486\n",
      "2.1205286979675293\n",
      "2.1205239295959473\n",
      "2.120518207550049\n",
      "2.120513439178467\n",
      "2.1205084323883057\n",
      "2.1205034255981445\n",
      "2.1204986572265625\n",
      "2.1204936504364014\n",
      "2.120488405227661\n",
      "2.1204833984375\n",
      "2.120478391647339\n",
      "2.120473623275757\n",
      "2.1204686164855957\n",
      "2.1204636096954346\n",
      "2.1204586029052734\n",
      "2.1204535961151123\n",
      "2.1204488277435303\n",
      "2.1204440593719482\n",
      "2.120438814163208\n",
      "2.120434045791626\n",
      "2.120429039001465\n",
      "2.1204240322113037\n",
      "2.1204192638397217\n",
      "2.1204142570495605\n",
      "2.1204092502593994\n",
      "2.1204042434692383\n",
      "2.1203994750976562\n",
      "2.120394229888916\n",
      "2.120389223098755\n",
      "2.120384693145752\n",
      "2.1203794479370117\n",
      "2.1203746795654297\n",
      "2.1203696727752686\n",
      "2.1203646659851074\n",
      "2.1203598976135254\n",
      "2.1203551292419434\n",
      "2.1203501224517822\n",
      "2.120344877243042\n",
      "2.12034010887146\n",
      "2.120335340499878\n",
      "2.120330572128296\n",
      "2.120325803756714\n",
      "2.1203205585479736\n",
      "2.1203157901763916\n",
      "2.1203105449676514\n",
      "2.1203060150146484\n",
      "2.1203010082244873\n",
      "2.120296001434326\n",
      "2.120291233062744\n",
      "2.120286226272583\n",
      "2.120281457901001\n",
      "2.12027645111084\n",
      "2.1202714443206787\n",
      "2.120266914367676\n",
      "2.1202619075775146\n",
      "2.1202569007873535\n",
      "2.1202521324157715\n",
      "2.1202471256256104\n",
      "2.120242118835449\n",
      "2.120237350463867\n",
      "2.120232343673706\n",
      "2.120227336883545\n",
      "2.120222568511963\n",
      "2.120217800140381\n",
      "2.1202127933502197\n",
      "2.120208263397217\n",
      "2.1202030181884766\n",
      "2.1201982498168945\n",
      "2.1201932430267334\n",
      "2.1201887130737305\n",
      "2.1201834678649902\n",
      "2.1201789379119873\n",
      "2.120173692703247\n",
      "2.120169162750244\n",
      "2.120164394378662\n",
      "2.120159149169922\n",
      "2.12015438079834\n"
     ]
    }
   ],
   "source": [
    "for i in range(100):\n",
    "    logits_train = xenc_train @ w\n",
    "    counts_train = logits_train.exp()\n",
    "    prob_train = counts_train / counts_train.sum(1,keepdims=True)\n",
    "    loss= -prob_train[torch.arange(xs_train.__len__()), ys_train].log().mean() + 0.01*(w**2).mean()\n",
    "    print(loss.item())\n",
    "\n",
    "    w.grad = None\n",
    "    loss.backward()\n",
    "    w.data+= -10* w.grad"
   ]
  },
  {
   "cell_type": "code",
   "execution_count": 520,
   "metadata": {},
   "outputs": [
    {
     "name": "stdout",
     "output_type": "stream",
     "text": [
      "..junidha.\n",
      "..anakar.\n",
      "..presha.\n",
      "..ambir.\n",
      "..shin.\n",
      "..tohima.\n",
      "..subeetalantauramilendashabinikrwarti.\n",
      "..sajainay.\n",
      "..afta.\n",
      "..farmunthaf.\n",
      "..dhumerprinsumahrupen.\n",
      "..coba.\n",
      "..ya.\n",
      "..bachar.\n",
      "..sabir.\n",
      "..shim.\n",
      "..in.\n",
      "..wanit.\n",
      "..anaasnhavirususushad.\n",
      "..asfmxtdnail.\n",
      "..seeparamilat.\n",
      "..ranrari.\n",
      "..ish.\n",
      "..bir.\n",
      "..rujeerjebahvubhaha.\n",
      "..van.\n",
      "..mongrajdkhudditta.\n",
      "..mal.\n",
      "..raj.\n",
      "..laki.\n",
      "..iq.\n",
      "..amjpocbzzhqmfali.\n",
      "..sat.\n",
      "..fa.\n",
      "..sal.\n",
      "..khuvslitikissalaeveer.\n",
      "..kamewanabushemru.\n",
      "..aneshwar.\n",
      "..muramoda.\n",
      "..dipznojialiypargha.\n",
      "..tazrwanti.\n",
      "..kaymheelvin.\n",
      "..ri.\n",
      "..himahakesh.\n",
      "..mil.\n",
      "..bhashabbin.\n",
      "..prena.\n",
      "..preepwkgjwarwffarin.\n",
      "..shvjvikashannujrajanosan.\n",
      "..karbhurihandeshdab.\n"
     ]
    }
   ],
   "source": [
    "# finally, sample from the 'neural net' model\n",
    "g = torch.Generator().manual_seed(2147483647)\n",
    "\n",
    "for i in range(50):\n",
    "  \n",
    "  out = ['..']\n",
    "  ix=0\n",
    "  while True:\n",
    "    \n",
    "    # ----------\n",
    "    # BEFORE:\n",
    "    #p = P[ix]\n",
    "    # ----------\n",
    "    # NOW:\n",
    "    \n",
    "    ixpair = stoipair[(''.join(out))[-2:]]\n",
    "    xenc = f.one_hot(torch.tensor([ixpair]), num_classes=729).float()\n",
    "    logits = xenc @ w # predict log-counts\n",
    "    counts = logits.exp() # counts, equivalent to N\n",
    "    p = counts / counts.sum(1, keepdims=True) # probabilities for next character\n",
    "    # ----------\n",
    "    \n",
    "    ix = torch.multinomial(p, num_samples=1, replacement=True,generator=g).item()\n",
    "    out.append(itos[ix])\n",
    "    if ix == 0:\n",
    "      break\n",
    "  print(''.join(out))"
   ]
  },
  {
   "cell_type": "code",
   "execution_count": null,
   "metadata": {},
   "outputs": [],
   "source": [
    "\n",
    "probs = w.exp() / w.exp().sum(1,keepdims=True)\n",
    "probs[stoipair['ef']][stoi['q']]"
   ]
  },
  {
   "cell_type": "code",
   "execution_count": null,
   "metadata": {},
   "outputs": [],
   "source": [
    "probs[stoipair['ef']]"
   ]
  },
  {
   "cell_type": "code",
   "execution_count": null,
   "metadata": {},
   "outputs": [],
   "source": [
    "N[stoipair['aw']][stoi['p']]"
   ]
  }
 ],
 "metadata": {
  "kernelspec": {
   "display_name": "Python 3",
   "language": "python",
   "name": "python3"
  },
  "language_info": {
   "codemirror_mode": {
    "name": "ipython",
    "version": 3
   },
   "file_extension": ".py",
   "mimetype": "text/x-python",
   "name": "python",
   "nbconvert_exporter": "python",
   "pygments_lexer": "ipython3",
   "version": "3.10.11"
  },
  "orig_nbformat": 4
 },
 "nbformat": 4,
 "nbformat_minor": 2
}
